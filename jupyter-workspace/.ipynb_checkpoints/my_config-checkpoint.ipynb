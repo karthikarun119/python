{
 "cells": [
  {
   "cell_type": "code",
   "execution_count": 88,
   "metadata": {},
   "outputs": [],
   "source": [
    "class Employee :\n",
    "        def __init__(self):\n",
    "            pass\n",
    "        def calculate_acitivity_summary(): # Dictionary - {tag: hours_spent}\n",
    "            pass\n",
    "        def calculate_employee_summary(): #Dictionary - {project: hours_spent}\n",
    "\n",
    "            pass\n",
    "        def display_bar_chart(): # Shows Project vs Billing amount\n",
    "            pass\n",
    "        \n",
    "\n"
   ]
  },
  {
   "cell_type": "code",
   "execution_count": 89,
   "metadata": {},
   "outputs": [
    {
     "name": "stdout",
     "output_type": "stream",
     "text": [
      "7.05\n"
     ]
    }
   ],
   "source": [
    "from configparser import ConfigParser\n",
    "\n",
    "if __name__ == \"__main__\":\n",
    "    cfg = ConfigParser()\n",
    "\n",
    "    cfg['Dhivakar Kanagaraj'] = {'amount': 500,'dollar':7.05}\n",
    "    cfg['Harshvardhan Suresh'] = {'amount': 700,'dollar':9.87}\n",
    "    cfg['Senthil Palanisamy'] = {'amount': 800,'dollar':11.28}\n",
    "    cfg['Shivaraj Magadi'] = {'amount': 950,'dollar':13.39}\n",
    "    \n",
    "    with open('config.ini', 'w') as configfile:\n",
    "        cfg.write(configfile)\n",
    "    print(cfg.getfloat('Dhivakar Kanagaraj', 'dollar'))"
   ]
  },
  {
   "cell_type": "code",
   "execution_count": 95,
   "metadata": {},
   "outputs": [],
   "source": [
    "import datetime\n",
    "class Project :\n",
    "        billing_amount_in_inr=0\n",
    "        blling_amount_in_usd=0.0\n",
    "        def __init__(self,employees,tags,,duration):\n",
    "            self.employees = employees\n",
    "            self.tags = tags\n",
    "            self.startdate = startdate\n",
    "            self.enddate = enddate\n",
    "            self.starttime = starttime\n",
    "            self.endtime = endtime\n",
    "            self.duration =duration\n",
    "            \n",
    "        def calculate_acitivity_summary(self): #Table with Rows as Tags and Columns as Employees\n",
    "            tg=emp_file['Tags']\n",
    "            index_tags=[]\n",
    "            index_employees=[]\n",
    "            temp_dict={}\n",
    "            main_dict={}\n",
    "            for i in range(0,87,1):    \n",
    "                if self.tags[i] not in index_tags:\n",
    "                    index_tags.append(self.tags[i])\n",
    "                if self.employees[i] not in index_employees:\n",
    "                    index_employees.append(self.employees[i])\n",
    "            print(index_employees)\n",
    "            print(index_tags)\n",
    "            list1=[]\n",
    "           \n",
    "            for i in range(0,4,1):\n",
    "                for j in range(0,6,1):\n",
    "                    for k in range(0,87,1):                        \n",
    "                        if (self.tags[k]== index_tags[j]) and (self.employees[k]== index_employees[i]) :              \n",
    "                            #print(\"employee===%stags===%s and duration===%s\"%(index_employees[i],index_tags[j],self.duration[k]))\n",
    "                            list1.append(self.duration[k])\n",
    "                    timeList = list1\n",
    "                    sum = datetime.timedelta()\n",
    "                    for e in timeList:\n",
    "                        (h, m, s) = e.split(':')\n",
    "                        d = datetime.timedelta(hours=int(h), minutes=int(m), seconds=int(s))\n",
    "                        sum += d\n",
    "                    temp_dict[index_tags[j]]=str(sum)\n",
    "                    list1=[]\n",
    "                main_dict[index_employees[i]]=temp_dict  \n",
    "                temp_dict={}\n",
    "                \n",
    "        \n",
    "            res=pd.DataFrame(main_dict)\n",
    "            print(res)\n",
    "               \n",
    "                  \n",
    "                    \n",
    "                 \n",
    "                    \n",
    "                            \n",
    "        \n",
    "        \n",
    "        \n",
    "               \n",
    "            \n",
    "         \n",
    "        '''   \n",
    "        def calculate_employee_summary(): #Table of Employee vs hours_spent\n",
    "            pass\n",
    "        def display_bar_chart(): # Shows employee vs billing amount\n",
    "            pass\n",
    "        def calculate_amount(self,project):\n",
    "            emp={}\n",
    "            lis=[]\n",
    "            one = emp_file[['User', 'Project', 'Duration']]\n",
    "            for i in range(0,87,1):                \n",
    "                if employees[i] in emp :\n",
    "                    if project[i]  not in emp[employees[i]]:\n",
    "                        b=emp[employees[i]]\n",
    "                        b.append(project[i])                        \n",
    "                    else:\n",
    "                        pass\n",
    "                else:                \n",
    "                    lis.append(project[i])            \n",
    "                    emp[employees[i]] = lis\n",
    "                    \n",
    "                lis=[]\n",
    "\n",
    "           \n",
    "                          \n",
    "            print(b)'''\n",
    "                    \n",
    "            \n",
    "            \n",
    "        \n",
    "        \n",
    "\n"
   ]
  },
  {
   "cell_type": "code",
   "execution_count": 96,
   "metadata": {
    "scrolled": false
   },
   "outputs": [
    {
     "name": "stdout",
     "output_type": "stream",
     "text": [
      "['Dhivakar Kanagaraj', 'Harshvardhan Suresh', 'Senthil Palanisamy', 'Shivaraj Magadi']\n",
      "['Coding & Unit Testing', 'Documentation', 'Planning & Management', 'Training', 'Design & Analysis Review', 'Research & Exploration']\n",
      "                         Dhivakar Kanagaraj Harshvardhan Suresh  \\\n",
      "Coding & Unit Testing               6:20:26             4:28:43   \n",
      "Design & Analysis Review            2:53:25             1:55:00   \n",
      "Documentation                       0:00:00             0:44:18   \n",
      "Planning & Management               3:37:00             1:49:23   \n",
      "Research & Exploration             14:03:24            16:03:37   \n",
      "Training                            0:00:00             0:00:00   \n",
      "\n",
      "                         Senthil Palanisamy Shivaraj Magadi  \n",
      "Coding & Unit Testing              13:07:22        19:23:33  \n",
      "Design & Analysis Review            2:48:31         0:00:00  \n",
      "Documentation                       5:34:33         2:03:00  \n",
      "Planning & Management               3:54:00         2:17:44  \n",
      "Research & Exploration             10:07:49         0:40:00  \n",
      "Training                            0:25:00         0:00:00  \n"
     ]
    }
   ],
   "source": [
    "import pandas as pd\n",
    "emp_file = pd.read_csv('C:/Users/arunkarthik.p/Downloads/time_entry_weekly.csv')\n",
    "employees=emp_file['User']\n",
    "\n",
    "\n",
    "\n",
    "\n",
    "tags=emp_file['Tags']\n",
    "duration=emp_file['Duration']\n",
    "\n",
    "project=emp_file['Project']\n",
    "p=Project(employees,tags,,duration)\n",
    "#p.calculate_amount(project)\n",
    "p.calculate_acitivity_summary()\n"
   ]
  },
  {
   "cell_type": "code",
   "execution_count": null,
   "metadata": {},
   "outputs": [],
   "source": []
  }
 ],
 "metadata": {
  "kernelspec": {
   "display_name": "Python 3",
   "language": "python",
   "name": "python3"
  },
  "language_info": {
   "codemirror_mode": {
    "name": "ipython",
    "version": 3
   },
   "file_extension": ".py",
   "mimetype": "text/x-python",
   "name": "python",
   "nbconvert_exporter": "python",
   "pygments_lexer": "ipython3",
   "version": "3.7.1"
  }
 },
 "nbformat": 4,
 "nbformat_minor": 2
}
